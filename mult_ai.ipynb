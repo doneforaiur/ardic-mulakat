{
 "cells": [
  {
   "cell_type": "code",
   "execution_count": 3,
   "metadata": {
    "scrolled": true
   },
   "outputs": [
    {
     "name": "stdout",
     "output_type": "stream",
     "text": [
      "[[29 88]\n",
      " [99 77]\n",
      " [ 7 81]\n",
      " ...\n",
      " [81 95]\n",
      " [63  6]\n",
      " [50 42]]\n",
      "[2552 7623  567 ... 7695  378 2100]\n",
      "Model: \"sequential_2\"\n",
      "_________________________________________________________________\n",
      "Layer (type)                 Output Shape              Param #   \n",
      "=================================================================\n",
      "flatten_2 (Flatten)          (None, 2)                 0         \n",
      "_________________________________________________________________\n",
      "dense_6 (Dense)              (None, 128)               384       \n",
      "_________________________________________________________________\n",
      "dense_7 (Dense)              (None, 128)               16512     \n",
      "_________________________________________________________________\n",
      "dense_8 (Dense)              (None, 1)                 129       \n",
      "=================================================================\n",
      "Total params: 17,025\n",
      "Trainable params: 17,025\n",
      "Non-trainable params: 0\n",
      "_________________________________________________________________\n",
      "None\n",
      "Epoch 1/20\n",
      "450/450 - 2s - loss: 66.0320 - val_loss: 37.6533\n",
      "Epoch 2/20\n",
      "450/450 - 2s - loss: 33.3575 - val_loss: 29.0204\n",
      "Epoch 3/20\n",
      "450/450 - 2s - loss: 25.3281 - val_loss: 21.6111\n",
      "Epoch 4/20\n",
      "450/450 - 2s - loss: 18.9135 - val_loss: 16.8205\n",
      "Epoch 5/20\n",
      "450/450 - 2s - loss: 14.1576 - val_loss: 11.8455\n",
      "Epoch 6/20\n",
      "450/450 - 2s - loss: 9.6762 - val_loss: 8.4261\n",
      "Epoch 7/20\n",
      "450/450 - 2s - loss: 6.2362 - val_loss: 5.0152\n",
      "Epoch 8/20\n",
      "450/450 - 2s - loss: 4.1398 - val_loss: 3.5603\n",
      "Epoch 9/20\n",
      "450/450 - 2s - loss: 3.0200 - val_loss: 2.6170\n",
      "Epoch 10/20\n",
      "450/450 - 2s - loss: 2.3670 - val_loss: 2.1665\n",
      "Epoch 11/20\n",
      "450/450 - 2s - loss: 1.8778 - val_loss: 1.9452\n",
      "Epoch 12/20\n",
      "450/450 - 2s - loss: 1.6747 - val_loss: 1.7526\n",
      "Epoch 13/20\n",
      "450/450 - 2s - loss: 1.3324 - val_loss: 1.1988\n",
      "Epoch 14/20\n",
      "450/450 - 2s - loss: 1.2738 - val_loss: 1.1647\n",
      "Epoch 15/20\n",
      "450/450 - 2s - loss: 1.2407 - val_loss: 1.1327\n",
      "Epoch 16/20\n",
      "450/450 - 2s - loss: 0.9774 - val_loss: 0.7874\n",
      "Epoch 17/20\n",
      "450/450 - 2s - loss: 0.9822 - val_loss: 0.7997\n",
      "Epoch 18/20\n",
      "450/450 - 2s - loss: 0.8716 - val_loss: 0.9303\n",
      "Epoch 19/20\n",
      "450/450 - 2s - loss: 0.9096 - val_loss: 0.6906\n",
      "Epoch 20/20\n",
      "450/450 - 2s - loss: 0.9438 - val_loss: 0.9008\n"
     ]
    },
    {
     "data": {
      "image/png": "[encoded data removed]",
      "text/plain": [
       "<Figure size 432x288 with 1 Axes>"
      ]
     },
     "metadata": {
      "needs_background": "light"
     },
     "output_type": "display_data"
    }
   ],
   "source": [
    "import numpy as np\n",
    "import random\n",
    "import tensorflow as tf\n",
    "from tensorflow import keras\n",
    "from keras import Input, Model\n",
    "from keras.layers import Dense\n",
    "from keras.models import Sequential\n",
    "from matplotlib import pyplot as plt\n",
    "\n",
    "trainingInput = np.array([[random.randrange(1, 100) ,  random.randrange(1,100)] for i in range(1, 100*100*5)])\n",
    "trainingOutput =  np.array([(input [0] * input [1]) for input  in trainingInput ])\n",
    "\n",
    "print(trainingInput)\n",
    "print(trainingOutput)\n",
    "\n",
    "model = keras.Sequential([\n",
    "    keras.layers.Flatten(input_shape=(2,)),\n",
    "    tf.keras.layers.Dense(128, activation=\"relu\"),\n",
    "    tf.keras.layers.Dense(128, activation=\"relu\"),\n",
    "    keras.layers.Dense(1)\n",
    "])\n",
    "\n",
    "opt = keras.optimizers.Adam(learning_rate=0.001)\n",
    "model.compile(optimizer=opt, loss='mape')\n",
    "\n",
    "print(model.summary())\n",
    "history = model.fit(trainingInput, trainingOutput, batch_size=100, validation_split=0.1, epochs=20, verbose=2)\n",
    "\n",
    "plt.plot(history.history['loss'])\n",
    "plt.plot(history.history['val_loss'])\n",
    "plt.title('model accuracy')\n",
    "plt.ylabel('accuracy')\n",
    "plt.xlabel('epoch')\n",
    "plt.legend(['train', 'val'], loc='upper left')\n",
    "plt.show()"
   ]
  },
  {
   "cell_type": "code",
   "execution_count": 4,
   "metadata": {},
   "outputs": [
    {
     "name": "stdout",
     "output_type": "stream",
     "text": [
      "[[ 20.053354]\n",
      " [ 15.321399]\n",
      " [ 10.695559]\n",
      " [ 73.944176]\n",
      " [400.346   ]]\n"
     ]
    }
   ],
   "source": [
    "a = np.array([[10, 2], [3.5,4], [21, 0.5], [1.5, 48.6], [20, 20]])\n",
    "print(model.predict(a))"
   ]
  },
  {
   "cell_type": "code",
   "execution_count": 5,
   "metadata": {
    "scrolled": true
   },
   "outputs": [
    {
     "name": "stdout",
     "output_type": "stream",
     "text": [
      "[[4.00733319 4.40671925]\n",
      " [3.95124372 2.77258872]\n",
      " [4.17438727 4.35670883]\n",
      " ...\n",
      " [3.13549422 3.61091791]\n",
      " [3.58351894 0.        ]\n",
      " [4.56434819 3.8501476 ]]\n",
      "[8.41405243 6.72383244 8.5310961  ... 6.74641213 3.58351894 8.41449579]\n",
      "Model: \"sequential_3\"\n",
      "_________________________________________________________________\n",
      "Layer (type)                 Output Shape              Param #   \n",
      "=================================================================\n",
      "flatten_3 (Flatten)          (None, 2)                 0         \n",
      "_________________________________________________________________\n",
      "dense_9 (Dense)              (None, 1)                 3         \n",
      "_________________________________________________________________\n",
      "dense_10 (Dense)             (None, 1)                 2         \n",
      "=================================================================\n",
      "Total params: 5\n",
      "Trainable params: 5\n",
      "Non-trainable params: 0\n",
      "_________________________________________________________________\n",
      "None\n",
      "Epoch 1/25\n",
      "45/45 - 1s - loss: 12.5632 - val_loss: 9.6931\n",
      "Epoch 2/25\n",
      "45/45 - 0s - loss: 8.2117 - val_loss: 6.9720\n",
      "Epoch 3/25\n",
      "45/45 - 0s - loss: 6.4171 - val_loss: 5.8727\n",
      "Epoch 4/25\n",
      "45/45 - 0s - loss: 5.5304 - val_loss: 5.0248\n",
      "Epoch 5/25\n",
      "45/45 - 0s - loss: 4.2543 - val_loss: 2.9089\n",
      "Epoch 6/25\n",
      "45/45 - 0s - loss: 1.2063 - val_loss: 0.5415\n",
      "Epoch 7/25\n",
      "45/45 - 0s - loss: 0.5087 - val_loss: 0.5067\n",
      "Epoch 8/25\n",
      "45/45 - 0s - loss: 0.4848 - val_loss: 0.4884\n",
      "Epoch 9/25\n",
      "45/45 - 0s - loss: 0.4664 - val_loss: 0.4695\n",
      "Epoch 10/25\n",
      "45/45 - 0s - loss: 0.4470 - val_loss: 0.4486\n",
      "Epoch 11/25\n",
      "45/45 - 0s - loss: 0.4265 - val_loss: 0.4267\n",
      "Epoch 12/25\n",
      "45/45 - 0s - loss: 0.4049 - val_loss: 0.4038\n",
      "Epoch 13/25\n",
      "45/45 - 0s - loss: 0.3820 - val_loss: 0.3799\n",
      "Epoch 14/25\n",
      "45/45 - 0s - loss: 0.3581 - val_loss: 0.3540\n",
      "Epoch 15/25\n",
      "45/45 - 0s - loss: 0.3323 - val_loss: 0.3273\n",
      "Epoch 16/25\n",
      "45/45 - 0s - loss: 0.3050 - val_loss: 0.2985\n",
      "Epoch 17/25\n",
      "45/45 - 0s - loss: 0.2759 - val_loss: 0.2674\n",
      "Epoch 18/25\n",
      "45/45 - 0s - loss: 0.2447 - val_loss: 0.2336\n",
      "Epoch 19/25\n",
      "45/45 - 0s - loss: 0.2108 - val_loss: 0.1975\n",
      "Epoch 20/25\n",
      "45/45 - 0s - loss: 0.1742 - val_loss: 0.1583\n",
      "Epoch 21/25\n",
      "45/45 - 0s - loss: 0.1341 - val_loss: 0.1149\n",
      "Epoch 22/25\n",
      "45/45 - 0s - loss: 0.0898 - val_loss: 0.0673\n",
      "Epoch 23/25\n",
      "45/45 - 0s - loss: 0.0418 - val_loss: 0.0189\n",
      "Epoch 24/25\n",
      "45/45 - 0s - loss: 0.0297 - val_loss: 0.0719\n",
      "Epoch 25/25\n",
      "45/45 - 0s - loss: 0.0598 - val_loss: 0.0137\n"
     ]
    },
    {
     "data": {
      "image/png": "[encoded data removed]",
      "text/plain": [
       "<Figure size 432x288 with 1 Axes>"
      ]
     },
     "metadata": {
      "needs_background": "light"
     },
     "output_type": "display_data"
    }
   ],
   "source": [
    "# Log version\n",
    "\n",
    "import numpy as np\n",
    "import random\n",
    "import tensorflow as tf\n",
    "from tensorflow import keras\n",
    "from keras import Input, Model\n",
    "from keras.layers import Dense\n",
    "from keras.models import Sequential\n",
    "from matplotlib import pyplot as plt\n",
    "import math\n",
    "\n",
    "trainingInput = np.array([[math.log(random.randrange(1, 100)) ,  math.log(random.randrange(1,100))] for i in range(1, 100*100*5)])\n",
    "trainingOutput =  np.array([(input [0] + input [1]) for input  in trainingInput ])\n",
    "\n",
    "print(trainingInput)\n",
    "print(trainingOutput)\n",
    "\n",
    "model = keras.Sequential([\n",
    "    keras.layers.Flatten(input_shape=(2,)),\n",
    "    tf.keras.layers.Dense(1, activation=\"linear\"), # does only addition, so 1 neuron is sufficient\n",
    "    keras.layers.Dense(1)\n",
    "])\n",
    "\n",
    "opt = keras.optimizers.Adam(learning_rate=0.01)\n",
    "model.compile(optimizer=opt, loss='mae')\n",
    "\n",
    "print(model.summary())\n",
    "history = model.fit(trainingInput, trainingOutput, batch_size=100*10, validation_split=0.1, epochs=25, verbose=2)\n",
    "\n",
    "plt.plot(history.history['loss'])\n",
    "plt.plot(history.history['val_loss'])\n",
    "plt.title('model accuracy')\n",
    "plt.ylabel('accuracy')\n",
    "plt.xlabel('epoch')\n",
    "plt.legend(['train', 'val'], loc='upper left')\n",
    "plt.show()\n"
   ]
  },
  {
   "cell_type": "code",
   "execution_count": 7,
   "metadata": {},
   "outputs": [
    {
     "name": "stdout",
     "output_type": "stream",
     "text": [
      "13.90151163991406\n"
     ]
    }
   ],
   "source": [
    "a = np.array([[math.log(3.5), math.log(4)]])\n",
    "print(math.exp(model.predict(a)))"
   ]
  },
  {
   "cell_type": "code",
   "execution_count": null,
   "metadata": {},
   "outputs": [],
   "source": []
  }
 ],
 "metadata": {
  "kernelspec": {
   "display_name": "Python 3",
   "language": "python",
   "name": "python3"
  },
  "language_info": {
   "codemirror_mode": {
    "name": "ipython",
    "version": 3
   },
   "file_extension": ".py",
   "mimetype": "text/x-python",
   "name": "python",
   "nbconvert_exporter": "python",
   "pygments_lexer": "ipython3",
   "version": "3.6.13"
  }
 },
 "nbformat": 4,
 "nbformat_minor": 2
}
