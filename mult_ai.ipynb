{
 "cells": [
  {
   "cell_type": "code",
   "execution_count": 90,
   "metadata": {
    "scrolled": true
   },
   "outputs": [
    {
     "name": "stdout",
     "output_type": "stream",
     "text": [
      "Input dataset; [[83 37]\n",
      " [51 86]\n",
      " [43 31]\n",
      " ...\n",
      " [ 3 15]\n",
      " [27 76]\n",
      " [91 48]]\n",
      "Outputs;  [3071 4386 1333 ...   45 2052 4368]\n",
      "Epoch 1/10\n",
      "950/950 [==============================] - 4s 4ms/step - loss: 54.3980 - val_loss: 33.8149\n",
      "Epoch 2/10\n",
      "950/950 [==============================] - 4s 4ms/step - loss: 27.9794 - val_loss: 21.6953\n",
      "Epoch 3/10\n",
      "950/950 [==============================] - 4s 4ms/step - loss: 16.3444 - val_loss: 10.6654\n",
      "Epoch 4/10\n",
      "950/950 [==============================] - 4s 4ms/step - loss: 7.2626 - val_loss: 4.6966\n",
      "Epoch 5/10\n",
      "950/950 [==============================] - 4s 4ms/step - loss: 3.3384 - val_loss: 2.2136\n",
      "Epoch 6/10\n",
      "950/950 [==============================] - 4s 4ms/step - loss: 1.9272 - val_loss: 1.7085\n",
      "Epoch 7/10\n",
      "950/950 [==============================] - 4s 4ms/step - loss: 1.4222 - val_loss: 1.2167\n",
      "Epoch 8/10\n",
      "950/950 [==============================] - 4s 4ms/step - loss: 1.1547 - val_loss: 1.0873\n",
      "Epoch 9/10\n",
      "950/950 [==============================] - 4s 4ms/step - loss: 1.0133 - val_loss: 1.3005\n",
      "Epoch 10/10\n",
      "950/950 [==============================] - 4s 4ms/step - loss: 0.9178 - val_loss: 0.7570\n"
     ]
    },
    {
     "data": {
      "image/png": "[encoded data removed]",
      "text/plain": [
       "<Figure size 432x288 with 1 Axes>"
      ]
     },
     "metadata": {
      "needs_background": "light"
     },
     "output_type": "display_data"
    }
   ],
   "source": [
    "import numpy as np\n",
    "import random\n",
    "import tensorflow as tf\n",
    "from tensorflow import keras\n",
    "from keras import Input, Model\n",
    "from keras.layers import Dense\n",
    "from keras.models import Sequential\n",
    "from matplotlib import pyplot as plt\n",
    "\n",
    "trainingInput = np.array([[random.randrange(1, 101) ,  random.randrange(1,101)] for i in range(1, 100*100*10)])\n",
    "trainingOutput =  np.array([(input [0] * input [1]) for input  in trainingInput ])\n",
    "\n",
    "print(\"Input dataset;\", trainingInput)\n",
    "print(\"Outputs; \", trainingOutput)\n",
    "\n",
    "model = keras.Sequential([\n",
    "    keras.layers.Flatten(input_shape=(2,)),\n",
    "    tf.keras.layers.Dense(100, activation=\"relu\"),\n",
    "    tf.keras.layers.Dense(100, activation=\"relu\"),\n",
    "    keras.layers.Dense(1)\n",
    "])\n",
    "\n",
    "opt = keras.optimizers.Adam(learning_rate=0.001)\n",
    "model.compile(optimizer=opt, loss='mape')\n",
    "\n",
    "history = model.fit(trainingInput, trainingOutput, batch_size=100, validation_split=0.05, epochs=10, verbose=1, shuffle=True)\n",
    "\n",
    "plt.plot(history.history['loss'])\n",
    "plt.plot(history.history['val_loss'])\n",
    "plt.title('model accuracy')\n",
    "plt.ylabel('accuracy')\n",
    "plt.xlabel('epoch')\n",
    "plt.legend(['train', 'val'], loc='upper right')\n",
    "plt.show()"
   ]
  },
  {
   "cell_type": "code",
   "execution_count": 134,
   "metadata": {},
   "outputs": [
    {
     "name": "stdout",
     "output_type": "stream",
     "text": [
      "[[ 20.556545]\n",
      " [ 14.822817]\n",
      " [ 10.215759]\n",
      " [ 71.44968 ]\n",
      " [644.97015 ]\n",
      " [-80.41242 ]\n",
      " [-42.326397]]\n"
     ]
    }
   ],
   "source": [
    "a = np.array([[10, 2], [3.5,4], [0.5, 21], [1.5, 48.6], [25.5, 25], [-10, 10], [-5, 5]])\n",
    "print(model.predict(a))"
   ]
  },
  {
   "cell_type": "code",
   "execution_count": null,
   "metadata": {},
   "outputs": [],
   "source": []
  },
  {
   "cell_type": "code",
   "execution_count": 135,
   "metadata": {
    "scrolled": true
   },
   "outputs": [
    {
     "name": "stdout",
     "output_type": "stream",
     "text": [
      "[[4.57471098 2.83321334]\n",
      " [3.78418963 4.40671925]\n",
      " [3.93182563 4.46590812]\n",
      " ...\n",
      " [3.61091791 3.91202301]\n",
      " [3.8501476  3.76120012]\n",
      " [3.61091791 3.95124372]]\n",
      "[7.40792432 8.19090888 8.39773375 ... 7.52294092 7.61134772 7.56216163]\n",
      "Epoch 1/10\n",
      "900/900 - 2s - loss: 5.3260 - val_loss: 2.3717\n",
      "Epoch 2/10\n",
      "900/900 - 2s - loss: 1.0185 - val_loss: 0.7554\n",
      "Epoch 3/10\n",
      "900/900 - 2s - loss: 0.6753 - val_loss: 0.5795\n",
      "Epoch 4/10\n",
      "900/900 - 2s - loss: 0.4920 - val_loss: 0.3951\n",
      "Epoch 5/10\n",
      "900/900 - 2s - loss: 0.3096 - val_loss: 0.2230\n",
      "Epoch 6/10\n",
      "900/900 - 2s - loss: 0.1582 - val_loss: 0.1049\n",
      "Epoch 7/10\n",
      "900/900 - 2s - loss: 0.0604 - val_loss: 0.0177\n",
      "Epoch 8/10\n",
      "900/900 - 2s - loss: 0.0038 - val_loss: 0.0022\n",
      "Epoch 9/10\n",
      "900/900 - 2s - loss: 9.4403e-04 - val_loss: 6.8125e-04\n",
      "Epoch 10/10\n",
      "900/900 - 2s - loss: 9.3611e-04 - val_loss: 0.0014\n"
     ]
    },
    {
     "data": {
      "image/png": "[encoded data removed]",
      "text/plain": [
       "<Figure size 432x288 with 1 Axes>"
      ]
     },
     "metadata": {
      "needs_background": "light"
     },
     "output_type": "display_data"
    }
   ],
   "source": [
    "# Log version\n",
    "\n",
    "import numpy as np\n",
    "import random\n",
    "import tensorflow as tf\n",
    "from tensorflow import keras\n",
    "from keras import Input, Model\n",
    "from keras.layers import Dense\n",
    "from keras.models import Sequential\n",
    "from matplotlib import pyplot as plt\n",
    "import math\n",
    "\n",
    "trainingInput = np.array([[math.log(random.randrange(1, 101)) ,  math.log(random.randrange(1,101))] for i in range(1, 100*100*10)])\n",
    "trainingOutput =  np.array([(input [0] + input [1]) for input  in trainingInput ])\n",
    "\n",
    "print(trainingInput)\n",
    "print(trainingOutput)\n",
    "\n",
    "log_model = keras.Sequential([\n",
    "    keras.layers.Flatten(input_shape=(2,)),\n",
    "    tf.keras.layers.Dense(1, activation=\"linear\"), # does only addition, so 1 neuron is sufficient\n",
    "    keras.layers.Dense(1)\n",
    "])\n",
    "\n",
    "opt = keras.optimizers.Adam(learning_rate=0.0005)\n",
    "log_model.compile(optimizer=opt, loss='mae')\n",
    "\n",
    "history = log_model.fit(trainingInput, trainingOutput, batch_size=100, validation_split=0.1, epochs=10, verbose=2)\n",
    "\n",
    "plt.plot(history.history['loss'])\n",
    "plt.plot(history.history['val_loss'])\n",
    "plt.title('model accuracy')\n",
    "plt.ylabel('accuracy')\n",
    "plt.xlabel('epoch')\n",
    "plt.legend(['train', 'val'], loc='upper left')\n",
    "plt.show()\n"
   ]
  },
  {
   "cell_type": "code",
   "execution_count": 136,
   "metadata": {},
   "outputs": [
    {
     "name": "stdout",
     "output_type": "stream",
     "text": [
      "10.494134565440204\n"
     ]
    }
   ],
   "source": [
    "a = np.array([[math.log(0.5), math.log(21)]])\n",
    "print(math.exp(log_model.predict(a)))"
   ]
  },
  {
   "cell_type": "code",
   "execution_count": null,
   "metadata": {},
   "outputs": [],
   "source": []
  }
 ],
 "metadata": {
  "kernelspec": {
   "display_name": "Python 3",
   "language": "python",
   "name": "python3"
  },
  "language_info": {
   "codemirror_mode": {
    "name": "ipython",
    "version": 3
   },
   "file_extension": ".py",
   "mimetype": "text/x-python",
   "name": "python",
   "nbconvert_exporter": "python",
   "pygments_lexer": "ipython3",
   "version": "3.6.13"
  }
 },
 "nbformat": 4,
 "nbformat_minor": 2
}
