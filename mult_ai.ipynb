{
 "cells": [
  {
   "cell_type": "code",
   "execution_count": 11,
   "metadata": {
    "scrolled": true
   },
   "outputs": [
    {
     "name": "stdout",
     "output_type": "stream",
     "text": [
      "10000 10000\n",
      "Input dataset; [[  1 100]\n",
      " [  1  99]\n",
      " [  1  98]\n",
      " ...\n",
      " [100   3]\n",
      " [100   2]\n",
      " [100   1]]\n",
      "Outputs;  [100  99  98 ... 300 200 100]\n",
      "Epoch 1/50\n",
      "106/106 [==============================] - 1s 5ms/step - loss: 77.4262 - val_loss: 72.5465\n",
      "Epoch 2/50\n",
      "106/106 [==============================] - 0s 4ms/step - loss: 36.7338 - val_loss: 34.7354\n",
      "Epoch 3/50\n",
      "106/106 [==============================] - 0s 4ms/step - loss: 24.7559 - val_loss: 28.0303\n",
      "Epoch 4/50\n",
      "106/106 [==============================] - 0s 4ms/step - loss: 17.9766 - val_loss: 19.6820\n",
      "Epoch 5/50\n",
      "106/106 [==============================] - 0s 4ms/step - loss: 13.2957 - val_loss: 18.5240\n",
      "Epoch 6/50\n",
      "106/106 [==============================] - 0s 3ms/step - loss: 8.8682 - val_loss: 9.3952\n",
      "Epoch 7/50\n",
      "106/106 [==============================] - 0s 4ms/step - loss: 6.6565 - val_loss: 10.4552\n",
      "Epoch 8/50\n",
      "106/106 [==============================] - 0s 3ms/step - loss: 5.2073 - val_loss: 8.4121\n",
      "Epoch 9/50\n",
      "106/106 [==============================] - 0s 4ms/step - loss: 5.2334 - val_loss: 11.8699\n",
      "Epoch 10/50\n",
      "106/106 [==============================] - 0s 4ms/step - loss: 4.7525 - val_loss: 5.1257\n",
      "Epoch 11/50\n",
      "106/106 [==============================] - 0s 3ms/step - loss: 3.7948 - val_loss: 6.9218\n",
      "Epoch 12/50\n",
      "106/106 [==============================] - 0s 4ms/step - loss: 3.2981 - val_loss: 5.9741\n",
      "Epoch 13/50\n",
      "106/106 [==============================] - 0s 3ms/step - loss: 3.5556 - val_loss: 5.0813\n",
      "Epoch 14/50\n",
      "106/106 [==============================] - 0s 4ms/step - loss: 3.0134 - val_loss: 4.3725\n",
      "Epoch 15/50\n",
      "106/106 [==============================] - 0s 4ms/step - loss: 2.8201 - val_loss: 4.9073\n",
      "Epoch 16/50\n",
      "106/106 [==============================] - 0s 4ms/step - loss: 2.7177 - val_loss: 8.3516\n",
      "Epoch 17/50\n",
      "106/106 [==============================] - 0s 4ms/step - loss: 2.6933 - val_loss: 4.6509\n",
      "Epoch 18/50\n",
      "106/106 [==============================] - 0s 4ms/step - loss: 2.5691 - val_loss: 3.1361\n",
      "Epoch 19/50\n",
      "106/106 [==============================] - 0s 4ms/step - loss: 2.6188 - val_loss: 4.1376\n",
      "Epoch 20/50\n",
      "106/106 [==============================] - 0s 4ms/step - loss: 2.2779 - val_loss: 4.2588\n",
      "Epoch 21/50\n",
      "106/106 [==============================] - 0s 4ms/step - loss: 1.9546 - val_loss: 4.1512\n",
      "Epoch 22/50\n",
      "106/106 [==============================] - 0s 4ms/step - loss: 2.1488 - val_loss: 2.5360\n",
      "Epoch 23/50\n",
      "106/106 [==============================] - 0s 4ms/step - loss: 1.9959 - val_loss: 2.5984\n",
      "Epoch 24/50\n",
      "106/106 [==============================] - 0s 4ms/step - loss: 1.8409 - val_loss: 3.8873\n",
      "Epoch 25/50\n",
      "106/106 [==============================] - 0s 4ms/step - loss: 1.9127 - val_loss: 2.3185\n",
      "Epoch 26/50\n",
      "106/106 [==============================] - 0s 4ms/step - loss: 1.6163 - val_loss: 2.7714\n",
      "Epoch 27/50\n",
      "106/106 [==============================] - 0s 4ms/step - loss: 1.7595 - val_loss: 3.3639\n",
      "Epoch 28/50\n",
      "106/106 [==============================] - 0s 4ms/step - loss: 1.6641 - val_loss: 2.6382\n",
      "Epoch 29/50\n",
      "106/106 [==============================] - 0s 4ms/step - loss: 1.4975 - val_loss: 2.0493\n",
      "Epoch 30/50\n",
      "106/106 [==============================] - 0s 4ms/step - loss: 1.6568 - val_loss: 2.9748\n",
      "Epoch 31/50\n",
      "106/106 [==============================] - 0s 4ms/step - loss: 1.4883 - val_loss: 3.2275\n",
      "Epoch 32/50\n",
      "106/106 [==============================] - 0s 4ms/step - loss: 1.4676 - val_loss: 2.7344\n",
      "Epoch 33/50\n",
      "106/106 [==============================] - 0s 4ms/step - loss: 1.4770 - val_loss: 2.4293\n",
      "Epoch 34/50\n",
      "106/106 [==============================] - 0s 4ms/step - loss: 1.4299 - val_loss: 2.2343\n",
      "Epoch 35/50\n",
      "106/106 [==============================] - 0s 4ms/step - loss: 1.3670 - val_loss: 2.3041\n",
      "Epoch 36/50\n",
      "106/106 [==============================] - 0s 4ms/step - loss: 1.3542 - val_loss: 2.3379\n",
      "Epoch 37/50\n",
      "106/106 [==============================] - 0s 4ms/step - loss: 1.3044 - val_loss: 2.0084\n",
      "Epoch 38/50\n",
      "106/106 [==============================] - 0s 4ms/step - loss: 1.2733 - val_loss: 2.2323\n",
      "Epoch 39/50\n",
      "106/106 [==============================] - 0s 4ms/step - loss: 1.2410 - val_loss: 2.8610\n",
      "Epoch 40/50\n",
      "106/106 [==============================] - 0s 4ms/step - loss: 1.1974 - val_loss: 2.0134\n",
      "Epoch 41/50\n",
      "106/106 [==============================] - 0s 4ms/step - loss: 1.2988 - val_loss: 1.7659\n",
      "Epoch 42/50\n",
      "106/106 [==============================] - 0s 4ms/step - loss: 1.1524 - val_loss: 1.9881\n",
      "Epoch 43/50\n",
      "106/106 [==============================] - 0s 4ms/step - loss: 1.1317 - val_loss: 1.8464\n",
      "Epoch 44/50\n",
      "106/106 [==============================] - 0s 4ms/step - loss: 1.1654 - val_loss: 2.0986\n",
      "Epoch 45/50\n",
      "106/106 [==============================] - 0s 4ms/step - loss: 1.0997 - val_loss: 2.1090\n",
      "Epoch 46/50\n",
      "106/106 [==============================] - 0s 4ms/step - loss: 1.1403 - val_loss: 1.9206\n",
      "Epoch 47/50\n",
      "106/106 [==============================] - 0s 4ms/step - loss: 1.0531 - val_loss: 2.3574\n",
      "Epoch 48/50\n",
      "106/106 [==============================] - 0s 4ms/step - loss: 1.1241 - val_loss: 2.1048\n",
      "Epoch 49/50\n",
      "106/106 [==============================] - 0s 4ms/step - loss: 1.0865 - val_loss: 2.3043\n",
      "Epoch 50/50\n",
      "106/106 [==============================] - 0s 4ms/step - loss: 1.1157 - val_loss: 2.1872\n"
     ]
    },
    {
     "data": {
      "image/png": "[encoded data removed]",
      "text/plain": [
       "<Figure size 432x288 with 1 Axes>"
      ]
     },
     "metadata": {
      "needs_background": "light"
     },
     "output_type": "display_data"
    }
   ],
   "source": [
    "# https://authors.library.caltech.edu/29665/1/SIUieeetit93.pdf\n",
    "\n",
    "# z = x * y\n",
    "# z = x^2 - y^2\n",
    "\n",
    "import numpy as np\n",
    "import random\n",
    "import tensorflow as tf\n",
    "from tensorflow import keras\n",
    "from keras import Input, Model\n",
    "from keras.layers import Dense\n",
    "from keras.models import Sequential\n",
    "from matplotlib import pyplot as plt\n",
    "\n",
    "X = list(range(1,101, 1))\n",
    "Y = list(range(100,0,-1))\n",
    "\n",
    "\n",
    "# X = list(range(1,101, 2))\n",
    "# Y = list(range(100,0,-2))\n",
    "\n",
    "\n",
    "trainingInput = np.array([ [x,y] for x in X for y in Y])\n",
    "trainingOutput = np.array([ (x*y) for x in X for y in Y])\n",
    "\n",
    "print(len(trainingInput),len(trainingOutput))\n",
    "\n",
    "print(\"Input dataset;\", trainingInput)\n",
    "print(\"Outputs; \", trainingOutput)\n",
    "\n",
    "model = keras.Sequential([\n",
    "    keras.layers.Flatten(input_shape=(2,)),\n",
    "    tf.keras.layers.Dense(64, activation=\"relu\"),\n",
    "    tf.keras.layers.Dense(64, activation=\"relu\"),\n",
    "    tf.keras.layers.Dense(64, activation=\"relu\"),\n",
    "    keras.layers.Dense(1)\n",
    "])\n",
    "\n",
    "\n",
    "lr_schedule = keras.optimizers.schedules.ExponentialDecay(\n",
    "    initial_learning_rate=5e-3,\n",
    "    decay_steps=106,\n",
    "    decay_rate=0.95)\n",
    "\n",
    "opt = keras.optimizers.Adam(learning_rate=lr_schedule)\n",
    "model.compile(optimizer=opt, loss=\"mape\")\n",
    "\n",
    "history = model.fit(trainingInput, trainingOutput, batch_size=90, validation_split=0.05, epochs=50, verbose=1, shuffle=True)\n",
    "\n",
    "plt.plot(history.history['loss'])\n",
    "plt.plot(history.history['val_loss'])\n",
    "plt.title('model accuracy')\n",
    "plt.ylabel('accuracy')\n",
    "plt.xlabel('epoch')\n",
    "plt.legend(['train', 'val'], loc='upper right')\n",
    "plt.show()"
   ]
  },
  {
   "cell_type": "code",
   "execution_count": 13,
   "metadata": {},
   "outputs": [
    {
     "name": "stdout",
     "output_type": "stream",
     "text": [
      "[[20.5307]\n",
      " [14.8399]\n",
      " [12.7581]\n",
      " [69.7171]\n",
      " [620.868]\n",
      " [-60.1225]\n",
      " [-34.806]\n",
      " [0.174232]]\n"
     ]
    }
   ],
   "source": [
    "a = np.array([[10, 2], [3.5,4], [0.5, 21], [48.6, 1.5], [25, 25], [-10, 10], [-5, 5], [-5,-5]])\n",
    "np.set_printoptions(formatter={\"float_kind\": lambda x: \"%g\" % x})\n",
    "print(model.predict(a))\n"
   ]
  },
  {
   "cell_type": "code",
   "execution_count": 18,
   "metadata": {},
   "outputs": [
    {
     "name": "stdout",
     "output_type": "stream",
     "text": [
      "[[0 4.60517]\n",
      " [0 4.59512]\n",
      " [0 4.58497]\n",
      " ...\n",
      " [4.60517 1.09861]\n",
      " [4.60517 0.693147]\n",
      " [4.60517 0]]\n",
      "[4.60517 4.59512 4.58497 ... 5.70378 5.29832 4.60517]\n",
      "Epoch 1/10\n",
      "180/180 [==============================] - 1s 3ms/step - loss: 1.6882 - val_loss: 0.0335\n",
      "Epoch 2/10\n",
      "180/180 [==============================] - 0s 2ms/step - loss: 0.0162 - val_loss: 0.0032\n",
      "Epoch 3/10\n",
      "180/180 [==============================] - 0s 2ms/step - loss: 6.9678e-04 - val_loss: 3.3089e-05\n",
      "Epoch 4/10\n",
      "180/180 [==============================] - 0s 2ms/step - loss: 2.3569e-05 - val_loss: 1.3160e-08\n",
      "Epoch 5/10\n",
      "180/180 [==============================] - 0s 2ms/step - loss: 1.6932e-05 - val_loss: 5.5030e-10\n",
      "Epoch 6/10\n",
      "180/180 [==============================] - 0s 2ms/step - loss: 1.6843e-05 - val_loss: 4.8148e-08\n",
      "Epoch 7/10\n",
      "180/180 [==============================] - 0s 2ms/step - loss: 1.6744e-05 - val_loss: 7.8800e-08\n",
      "Epoch 8/10\n",
      "180/180 [==============================] - 0s 2ms/step - loss: 1.6631e-05 - val_loss: 1.2771e-08\n",
      "Epoch 9/10\n",
      "180/180 [==============================] - 0s 2ms/step - loss: 1.6495e-05 - val_loss: 1.6430e-12\n",
      "Epoch 10/10\n",
      "180/180 [==============================] - 0s 2ms/step - loss: 1.6365e-05 - val_loss: 4.9099e-09\n"
     ]
    },
    {
     "data": {
      "image/png": "[encoded data removed]",
      "text/plain": [
       "<Figure size 432x288 with 1 Axes>"
      ]
     },
     "metadata": {
      "needs_background": "light"
     },
     "output_type": "display_data"
    }
   ],
   "source": [
    "# Log version\n",
    "\n",
    "import numpy as np\n",
    "import random\n",
    "import tensorflow as tf\n",
    "from tensorflow import keras\n",
    "from keras import Input, Model\n",
    "from keras.layers import Dense\n",
    "from keras.models import Sequential\n",
    "from matplotlib import pyplot as plt\n",
    "import math\n",
    "\n",
    "X = list(range(1,101,1))\n",
    "Y = list(range(100,0,-1))\n",
    "trainingInput = np.array([ [math.log(x),math.log(y)] for x in X for y in Y])\n",
    "trainingOutput = np.array([ math.log(x) + math.log(y)  for x in X for y in Y])\n",
    "\n",
    "print(trainingInput)\n",
    "print(trainingOutput)\n",
    "\n",
    "log_model = keras.Sequential([\n",
    "    keras.layers.Flatten(input_shape=(2,)),\n",
    "    keras.layers.Dense(1, \"relu\"),\n",
    "    keras.layers.Dense(1)\n",
    "])\n",
    "\n",
    "opt = keras.optimizers.Adam(learning_rate=0.1)\n",
    "log_model.compile(optimizer=opt, loss=\"mse\")\n",
    "\n",
    "history = log_model.fit(trainingInput, trainingOutput, batch_size=50, validation_split=0.1, epochs=10, verbose=1)\n",
    "\n",
    "plt.plot(history.history['loss'])\n",
    "plt.plot(history.history['val_loss'])\n",
    "plt.title('model accuracy')\n",
    "plt.ylabel('accuracy')\n",
    "plt.xlabel('epoch')\n",
    "plt.legend(['train', 'val'], loc='upper right')\n",
    "plt.show()"
   ]
  },
  {
   "cell_type": "code",
   "execution_count": 19,
   "metadata": {},
   "outputs": [
    {
     "name": "stdout",
     "output_type": "stream",
     "text": [
      "24.992343479371083\n"
     ]
    }
   ],
   "source": [
    "a = np.array([[math.log(50), math.log(0.5)]])\n",
    "np.set_printoptions(formatter={\"float_kind\": lambda x: \"%g\" % x})\n",
    "print(math.exp(log_model.predict(a)))"
   ]
  },
  {
   "cell_type": "code",
   "execution_count": null,
   "metadata": {},
   "outputs": [],
   "source": []
  }
 ],
 "metadata": {
  "kernelspec": {
   "display_name": "Python 3",
   "language": "python",
   "name": "python3"
  },
  "language_info": {
   "codemirror_mode": {
    "name": "ipython",
    "version": 3
   },
   "file_extension": ".py",
   "mimetype": "text/x-python",
   "name": "python",
   "nbconvert_exporter": "python",
   "pygments_lexer": "ipython3",
   "version": "3.6.13"
  }
 },
 "nbformat": 4,
 "nbformat_minor": 2
}
