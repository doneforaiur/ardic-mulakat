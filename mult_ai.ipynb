{
 "cells": [
  {
   "cell_type": "code",
   "execution_count": 90,
   "metadata": {
    "scrolled": true
   },
   "outputs": [
    {
     "name": "stdout",
     "output_type": "stream",
     "text": [
      "Input dataset; [[83 37]\n",
      " [51 86]\n",
      " [43 31]\n",
      " ...\n",
      " [ 3 15]\n",
      " [27 76]\n",
      " [91 48]]\n",
      "Outputs;  [3071 4386 1333 ...   45 2052 4368]\n",
      "Epoch 1/10\n",
      "950/950 [==============================] - 4s 4ms/step - loss: 54.3980 - val_loss: 33.8149\n",
      "Epoch 2/10\n",
      "950/950 [==============================] - 4s 4ms/step - loss: 27.9794 - val_loss: 21.6953\n",
      "Epoch 3/10\n",
      "950/950 [==============================] - 4s 4ms/step - loss: 16.3444 - val_loss: 10.6654\n",
      "Epoch 4/10\n",
      "950/950 [==============================] - 4s 4ms/step - loss: 7.2626 - val_loss: 4.6966\n",
      "Epoch 5/10\n",
      "950/950 [==============================] - 4s 4ms/step - loss: 3.3384 - val_loss: 2.2136\n",
      "Epoch 6/10\n",
      "950/950 [==============================] - 4s 4ms/step - loss: 1.9272 - val_loss: 1.7085\n",
      "Epoch 7/10\n",
      "950/950 [==============================] - 4s 4ms/step - loss: 1.4222 - val_loss: 1.2167\n",
      "Epoch 8/10\n",
      "950/950 [==============================] - 4s 4ms/step - loss: 1.1547 - val_loss: 1.0873\n",
      "Epoch 9/10\n",
      "950/950 [==============================] - 4s 4ms/step - loss: 1.0133 - val_loss: 1.3005\n",
      "Epoch 10/10\n",
      "950/950 [==============================] - 4s 4ms/step - loss: 0.9178 - val_loss: 0.7570\n"
     ]
    },
    {
     "data": {
      "image/png": "[encoded data removed]",
      "text/plain": [
       "<Figure size 432x288 with 1 Axes>"
      ]
     },
     "metadata": {
      "needs_background": "light"
     },
     "output_type": "display_data"
    }
   ],
   "source": [
    "import numpy as np\n",
    "import random\n",
    "import tensorflow as tf\n",
    "from tensorflow import keras\n",
    "from keras import Input, Model\n",
    "from keras.layers import Dense\n",
    "from keras.models import Sequential\n",
    "from matplotlib import pyplot as plt\n",
    "\n",
    "trainingInput = np.array([[random.randrange(1, 101) ,  random.randrange(1,101)] for i in range(1, 100*100*10)])\n",
    "trainingOutput =  np.array([(input [0] * input [1]) for input  in trainingInput ])\n",
    "\n",
    "print(\"Input dataset;\", trainingInput)\n",
    "print(\"Outputs; \", trainingOutput)\n",
    "\n",
    "model = keras.Sequential([\n",
    "    keras.layers.Flatten(input_shape=(2,)),\n",
    "    tf.keras.layers.Dense(100, activation=\"relu\"),\n",
    "    tf.keras.layers.Dense(100, activation=\"relu\"),\n",
    "    keras.layers.Dense(1)\n",
    "])\n",
    "\n",
    "opt = keras.optimizers.Adam(learning_rate=0.001)\n",
    "model.compile(optimizer=opt, loss='mape')\n",
    "\n",
    "history = model.fit(trainingInput, trainingOutput, batch_size=100, validation_split=0.05, epochs=10, verbose=1, shuffle=True)\n",
    "\n",
    "plt.plot(history.history['loss'])\n",
    "plt.plot(history.history['val_loss'])\n",
    "plt.title('model accuracy')\n",
    "plt.ylabel('accuracy')\n",
    "plt.xlabel('epoch')\n",
    "plt.legend(['train', 'val'], loc='upper right')\n",
    "plt.show()"
   ]
  },
  {
   "cell_type": "code",
   "execution_count": 110,
   "metadata": {},
   "outputs": [
    {
     "name": "stdout",
     "output_type": "stream",
     "text": [
      "[[ 20.556545]\n",
      " [ 14.822817]\n",
      " [ 10.215759]\n",
      " [ 71.44968 ]\n",
      " [644.97015 ]\n",
      " [-80.41242 ]\n",
      " [-42.326397]]\n"
     ]
    }
   ],
   "source": [
    "a = np.array([[10, 2], [3.5,4], [0.5, 21], [1.5, 48.6], [25.5, 25], [-10, 10], [-5, 5]])\n",
    "print(model.predict(a))"
   ]
  },
  {
   "cell_type": "code",
   "execution_count": null,
   "metadata": {},
   "outputs": [],
   "source": []
  },
  {
   "cell_type": "code",
   "execution_count": 131,
   "metadata": {
    "scrolled": true
   },
   "outputs": [
    {
     "name": "stdout",
     "output_type": "stream",
     "text": [
      "[[0.69314718 3.87120101]\n",
      " [2.63905733 3.66356165]\n",
      " [3.29583687 4.26267988]\n",
      " ...\n",
      " [3.87120101 3.55534806]\n",
      " [4.30406509 3.87120101]\n",
      " [3.49650756 4.59511985]]\n",
      "[4.56434819 6.30261898 7.55851674 ... 7.42654907 8.1752661  8.09162741]\n",
      "Epoch 1/20\n",
      "900/900 - 2s - loss: 1.9225 - val_loss: 0.4054\n",
      "Epoch 2/20\n",
      "900/900 - 2s - loss: 0.3609 - val_loss: 0.2967\n",
      "Epoch 3/20\n",
      "900/900 - 2s - loss: 0.2303 - val_loss: 0.1521\n",
      "Epoch 4/20\n",
      "900/900 - 2s - loss: 0.0863 - val_loss: 0.0363\n",
      "Epoch 5/20\n",
      "900/900 - 2s - loss: 0.0098 - val_loss: 7.4126e-04\n",
      "Epoch 6/20\n",
      "900/900 - 2s - loss: 0.0011 - val_loss: 4.8498e-04\n",
      "Epoch 7/20\n",
      "900/900 - 2s - loss: 8.1452e-04 - val_loss: 7.4263e-04\n",
      "Epoch 8/20\n",
      "900/900 - 2s - loss: 8.7848e-04 - val_loss: 6.1050e-04\n",
      "Epoch 9/20\n",
      "900/900 - 2s - loss: 7.7254e-04 - val_loss: 0.0018\n",
      "Epoch 10/20\n",
      "900/900 - 2s - loss: 9.8987e-04 - val_loss: 4.6639e-04\n",
      "Epoch 11/20\n",
      "900/900 - 2s - loss: 0.0011 - val_loss: 0.0013\n",
      "Epoch 12/20\n",
      "900/900 - 2s - loss: 9.8278e-04 - val_loss: 5.2056e-04\n",
      "Epoch 13/20\n",
      "900/900 - 2s - loss: 6.3445e-04 - val_loss: 0.0014\n",
      "Epoch 14/20\n",
      "900/900 - 2s - loss: 9.8777e-04 - val_loss: 0.0012\n",
      "Epoch 15/20\n",
      "900/900 - 2s - loss: 9.6197e-04 - val_loss: 0.0011\n",
      "Epoch 16/20\n",
      "900/900 - 2s - loss: 8.4091e-04 - val_loss: 4.3924e-05\n",
      "Epoch 17/20\n",
      "900/900 - 2s - loss: 7.4344e-04 - val_loss: 7.7530e-04\n",
      "Epoch 18/20\n",
      "900/900 - 2s - loss: 6.5280e-04 - val_loss: 0.0023\n",
      "Epoch 19/20\n",
      "900/900 - 2s - loss: 9.8659e-04 - val_loss: 5.9989e-04\n",
      "Epoch 20/20\n",
      "900/900 - 2s - loss: 6.8064e-04 - val_loss: 0.0012\n"
     ]
    },
    {
     "data": {
      "image/png": "[encoded data removed]",
      "text/plain": [
       "<Figure size 432x288 with 1 Axes>"
      ]
     },
     "metadata": {
      "needs_background": "light"
     },
     "output_type": "display_data"
    }
   ],
   "source": [
    "# Log version\n",
    "\n",
    "import numpy as np\n",
    "import random\n",
    "import tensorflow as tf\n",
    "from tensorflow import keras\n",
    "from keras import Input, Model\n",
    "from keras.layers import Dense\n",
    "from keras.models import Sequential\n",
    "from matplotlib import pyplot as plt\n",
    "import math\n",
    "\n",
    "trainingInput = np.array([[math.log(random.randrange(1, 101)) ,  math.log(random.randrange(1,101))] for i in range(1, 100*100*10)])\n",
    "trainingOutput =  np.array([(input [0] + input [1]) for input  in trainingInput ])\n",
    "\n",
    "print(trainingInput)\n",
    "print(trainingOutput)\n",
    "\n",
    "log_model = keras.Sequential([\n",
    "    keras.layers.Flatten(input_shape=(2,)),\n",
    "    tf.keras.layers.Dense(1, activation=\"linear\"), # does only addition, so 1 neuron is sufficient\n",
    "    keras.layers.Dense(1)\n",
    "])\n",
    "\n",
    "opt = keras.optimizers.Adam(learning_rate=0.0005)\n",
    "log_model.compile(optimizer=opt, loss='mae')\n",
    "\n",
    "history = log_model.fit(trainingInput, trainingOutput, batch_size=100, validation_split=0.1, epochs=20, verbose=2)\n",
    "\n",
    "plt.plot(history.history['loss'])\n",
    "plt.plot(history.history['val_loss'])\n",
    "plt.title('model accuracy')\n",
    "plt.ylabel('accuracy')\n",
    "plt.xlabel('epoch')\n",
    "plt.legend(['train', 'val'], loc='upper left')\n",
    "plt.show()\n"
   ]
  },
  {
   "cell_type": "code",
   "execution_count": 133,
   "metadata": {},
   "outputs": [
    {
     "name": "stdout",
     "output_type": "stream",
     "text": [
      "10.494357245504775\n"
     ]
    }
   ],
   "source": [
    "a = np.array([[math.log(0.5), math.log(21)]])\n",
    "print(math.exp(log_model.predict(a)))"
   ]
  },
  {
   "cell_type": "code",
   "execution_count": null,
   "metadata": {},
   "outputs": [],
   "source": []
  }
 ],
 "metadata": {
  "kernelspec": {
   "display_name": "Python 3",
   "language": "python",
   "name": "python3"
  },
  "language_info": {
   "codemirror_mode": {
    "name": "ipython",
    "version": 3
   },
   "file_extension": ".py",
   "mimetype": "text/x-python",
   "name": "python",
   "nbconvert_exporter": "python",
   "pygments_lexer": "ipython3",
   "version": "3.6.13"
  }
 },
 "nbformat": 4,
 "nbformat_minor": 2
}
